{
 "cells": [
  {
   "cell_type": "markdown",
   "metadata": {},
   "source": [
    "### Import thư viện cần thiết"
   ]
  },
  {
   "cell_type": "code",
   "execution_count": 1,
   "metadata": {},
   "outputs": [],
   "source": [
    "import numpy as np \n",
    "import matplotlib.pyplot as plt\n",
    "from scipy.spatial.distance import cdist\n",
    "np.random.seed(2)"
   ]
  },
  {
   "cell_type": "markdown",
   "metadata": {},
   "source": [
    "### Khởi tạo các điểm ngẫu nhiên"
   ]
  },
  {
   "cell_type": "code",
   "execution_count": 2,
   "metadata": {},
   "outputs": [
    {
     "name": "stdout",
     "output_type": "stream",
     "text": [
      "(2, 10)\n",
      "(2, 10)\n"
     ]
    }
   ],
   "source": [
    "means = [[2, 2], [4, 2]]\n",
    "cov = [[.3, .2], [.2, .3]]\n",
    "N = 10\n",
    "X0 = np.random.multivariate_normal(means[0], cov, N).T\n",
    "print(X0.shape)\n",
    "X1 = np.random.multivariate_normal(means[1], cov, N).T\n",
    "print(X1.shape)"
   ]
  },
  {
   "cell_type": "code",
   "execution_count": 7,
   "metadata": {},
   "outputs": [
    {
     "name": "stdout",
     "output_type": "stream",
     "text": [
      "(2, 20)\n",
      "(1, 20)\n",
      "(3, 20)\n"
     ]
    }
   ],
   "source": [
    "X = np.concatenate((X0, X1), axis = 1)\n",
    "print(X.shape)\n",
    "y = np.concatenate((np.ones((1, N)), -1*np.ones((1, N))), axis = 1)\n",
    "print(y.shape)\n",
    "X = np.concatenate((np.ones((1, 2*N)), X), axis = 0)\n",
    "print(X.shape)"
   ]
  },
  {
   "cell_type": "markdown",
   "metadata": {},
   "source": [
    "## Các hàm tính toán"
   ]
  },
  {
   "cell_type": "code",
   "execution_count": 9,
   "metadata": {},
   "outputs": [],
   "source": [
    "# h(w, x): tính đầu ra khi biết đầu vào x và weights w.\n",
    "def h(w, x):    \n",
    "    return np.sign(np.dot(w.T, x))\n",
    "\n",
    "# has_converged(X, y, w): kiểm tra xem thuật toán đã hội tụ chưa. \n",
    "#Ta chỉ cần so sánh h(w, X) với ground truth y. Nếu giống nhau thì dừng thuật toán.\n",
    "\n",
    "def has_converged(X, y, w):\n",
    "    return np.array_equal(h(w, X), y) #True if h(w, X) == y else False\n",
    "\n",
    "# Hàm chính PLA\n",
    "def perceptron(X, y, w_init):\n",
    "    w = [w_init]\n",
    "    N = X.shape[1]\n",
    "    mis_points = []\n",
    "    while True:\n",
    "        # mix data \n",
    "        mix_id = np.random.permutation(N)\n",
    "        for i in range(N):\n",
    "            xi = X[:, mix_id[i]].reshape(3, 1)\n",
    "            yi = y[0, mix_id[i]]\n",
    "            if h(w[-1], xi)[0] != yi:\n",
    "                mis_points.append(mix_id[i])\n",
    "                w_new = w[-1] + yi*xi \n",
    "\n",
    "                w.append(w_new)\n",
    "                \n",
    "        if has_converged(X, y, w[-1]):\n",
    "            break\n",
    "    return (w, mis_points)"
   ]
  },
  {
   "cell_type": "markdown",
   "metadata": {},
   "source": [
    "## Kiểm tra"
   ]
  },
  {
   "cell_type": "code",
   "execution_count": 11,
   "metadata": {},
   "outputs": [
    {
     "name": "stdout",
     "output_type": "stream",
     "text": [
      "[array([[-0.27384798],\n",
      "       [-0.81998094],\n",
      "       [ 0.61927856]]), array([[0.72615202],\n",
      "       [0.92684605],\n",
      "       [2.89158207]]), array([[-0.27384798],\n",
      "       [-3.16596645],\n",
      "       [ 1.24096501]]), array([[ 0.72615202],\n",
      "       [-1.13895227],\n",
      "       [ 2.71106942]]), array([[-0.27384798],\n",
      "       [-5.07679559],\n",
      "       [ 1.15076995]]), array([[ 0.72615202],\n",
      "       [-2.85583502],\n",
      "       [ 3.34656723]]), array([[ 1.72615202],\n",
      "       [-0.82882085],\n",
      "       [ 4.81667164]]), array([[ 0.72615202],\n",
      "       [-4.33957521],\n",
      "       [ 2.69787053]]), array([[ 1.72615202],\n",
      "       [-2.59274822],\n",
      "       [ 4.97017404]]), array([[ 0.72615202],\n",
      "       [-7.17713391],\n",
      "       [ 2.91690472]]), array([[ 1.72615202],\n",
      "       [-5.43030692],\n",
      "       [ 5.18920822]]), array([[ 2.72615202],\n",
      "       [-3.40329275],\n",
      "       [ 6.65931263]]), array([[ 1.72615202],\n",
      "       [-8.14822393],\n",
      "       [ 3.98302659]]), array([[ 2.72615202],\n",
      "       [-5.41598754],\n",
      "       [ 6.30874242]])]\n"
     ]
    }
   ],
   "source": [
    "d = X.shape[0]\n",
    "w_init = np.random.randn(d, 1)\n",
    "(w, m) = perceptron(X, y, w_init)\n",
    "print(w)"
   ]
  }
 ],
 "metadata": {
  "kernelspec": {
   "display_name": "Python 3",
   "language": "python",
   "name": "python3"
  },
  "language_info": {
   "codemirror_mode": {
    "name": "ipython",
    "version": 3
   },
   "file_extension": ".py",
   "mimetype": "text/x-python",
   "name": "python",
   "nbconvert_exporter": "python",
   "pygments_lexer": "ipython3",
   "version": "3.6.5"
  }
 },
 "nbformat": 4,
 "nbformat_minor": 2
}
