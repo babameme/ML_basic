{
 "cells": [
  {
   "cell_type": "markdown",
   "metadata": {},
   "source": [
    "# Linear Regression"
   ]
  },
  {
   "cell_type": "markdown",
   "metadata": {},
   "source": [
    "Import các thư viện cần thiết"
   ]
  },
  {
   "cell_type": "code",
   "execution_count": 1,
   "metadata": {},
   "outputs": [
    {
     "name": "stderr",
     "output_type": "stream",
     "text": [
      "Using TensorFlow backend.\n"
     ]
    }
   ],
   "source": [
    "import numpy as np \n",
    "import keras \n",
    "from keras.models import Sequential\n",
    "from keras.layers.core import Dense, Activation\n",
    "from keras import optimizers"
   ]
  },
  {
   "cell_type": "markdown",
   "metadata": {},
   "source": [
    "Tạo các điểm dữ liệu quanh đường thẳng y = 2 * x0 + 3 * x1 + 4"
   ]
  },
  {
   "cell_type": "code",
   "execution_count": 2,
   "metadata": {},
   "outputs": [],
   "source": [
    "X = np.random.rand(100, 2)\n",
    "y =  2* X[:,0] + 3 * X[:,1] + 4 + .2*np.random.randn(100) # noise added"
   ]
  },
  {
   "cell_type": "markdown",
   "metadata": {},
   "source": [
    "Xây dựng mô hình"
   ]
  },
  {
   "cell_type": "code",
   "execution_count": 3,
   "metadata": {},
   "outputs": [
    {
     "name": "stdout",
     "output_type": "stream",
     "text": [
      "WARNING:tensorflow:From C:\\ProgramData\\Anaconda3\\lib\\site-packages\\tensorflow\\python\\framework\\op_def_library.py:263: colocate_with (from tensorflow.python.framework.ops) is deprecated and will be removed in a future version.\n",
      "Instructions for updating:\n",
      "Colocations handled automatically by placer.\n"
     ]
    }
   ],
   "source": [
    "model = Sequential()\n",
    "model.add(Dense(1, input_shape=(2,), activation='linear'))"
   ]
  },
  {
   "cell_type": "markdown",
   "metadata": {},
   "source": [
    "Thiết đặt gradient descent optimizer và hàm mất mát"
   ]
  },
  {
   "cell_type": "code",
   "execution_count": 4,
   "metadata": {},
   "outputs": [],
   "source": [
    "sgd = optimizers.SGD(lr = 0.1)\n",
    "model.compile(loss = 'mse', optimizer = sgd)"
   ]
  },
  {
   "cell_type": "markdown",
   "metadata": {},
   "source": [
    "Huấn luyện mô hình"
   ]
  },
  {
   "cell_type": "code",
   "execution_count": 5,
   "metadata": {
    "collapsed": true
   },
   "outputs": [
    {
     "name": "stdout",
     "output_type": "stream",
     "text": [
      "WARNING:tensorflow:From C:\\ProgramData\\Anaconda3\\lib\\site-packages\\tensorflow\\python\\ops\\math_ops.py:3066: to_int32 (from tensorflow.python.ops.math_ops) is deprecated and will be removed in a future version.\n",
      "Instructions for updating:\n",
      "Use tf.cast instead.\n",
      "Epoch 1/100\n",
      "100/100 [==============================] - 1s 5ms/step - loss: 2.2626\n",
      "Epoch 2/100\n",
      "100/100 [==============================] - 0s 439us/step - loss: 0.0532\n",
      "Epoch 3/100\n",
      "100/100 [==============================] - 0s 399us/step - loss: 0.0519\n",
      "Epoch 4/100\n",
      "100/100 [==============================] - 0s 359us/step - loss: 0.0502\n",
      "Epoch 5/100\n",
      "100/100 [==============================] - 0s 618us/step - loss: 0.0507\n",
      "Epoch 6/100\n",
      "100/100 [==============================] - 0s 519us/step - loss: 0.0498\n",
      "Epoch 7/100\n",
      "100/100 [==============================] - 0s 469us/step - loss: 0.0494\n",
      "Epoch 8/100\n",
      "100/100 [==============================] - 0s 479us/step - loss: 0.0493\n",
      "Epoch 9/100\n",
      "100/100 [==============================] - 0s 658us/step - loss: 0.0498\n",
      "Epoch 10/100\n",
      "100/100 [==============================] - 0s 399us/step - loss: 0.0450\n",
      "Epoch 11/100\n",
      "100/100 [==============================] - 0s 369us/step - loss: 0.0480\n",
      "Epoch 12/100\n",
      "100/100 [==============================] - 0s 379us/step - loss: 0.0482\n",
      "Epoch 13/100\n",
      "100/100 [==============================] - 0s 439us/step - loss: 0.0486\n",
      "Epoch 14/100\n",
      "100/100 [==============================] - 0s 389us/step - loss: 0.0477\n",
      "Epoch 15/100\n",
      "100/100 [==============================] - 0s 419us/step - loss: 0.0506\n",
      "Epoch 16/100\n",
      "100/100 [==============================] - 0s 469us/step - loss: 0.0507\n",
      "Epoch 17/100\n",
      "100/100 [==============================] - 0s 469us/step - loss: 0.0495\n",
      "Epoch 18/100\n",
      "100/100 [==============================] - 0s 429us/step - loss: 0.0478\n",
      "Epoch 19/100\n",
      "100/100 [==============================] - 0s 499us/step - loss: 0.0482\n",
      "Epoch 20/100\n",
      "100/100 [==============================] - 0s 449us/step - loss: 0.0491\n",
      "Epoch 21/100\n",
      "100/100 [==============================] - 0s 489us/step - loss: 0.0477\n",
      "Epoch 22/100\n",
      "100/100 [==============================] - 0s 439us/step - loss: 0.0481\n",
      "Epoch 23/100\n",
      "100/100 [==============================] - 0s 459us/step - loss: 0.0482\n",
      "Epoch 24/100\n",
      "100/100 [==============================] - 0s 359us/step - loss: 0.0503\n",
      "Epoch 25/100\n",
      "100/100 [==============================] - 0s 309us/step - loss: 0.0480\n",
      "Epoch 26/100\n",
      "100/100 [==============================] - 0s 339us/step - loss: 0.0497\n",
      "Epoch 27/100\n",
      "100/100 [==============================] - 0s 369us/step - loss: 0.0512\n",
      "Epoch 28/100\n",
      "100/100 [==============================] - 0s 379us/step - loss: 0.0509\n",
      "Epoch 29/100\n",
      "100/100 [==============================] - 0s 359us/step - loss: 0.0471\n",
      "Epoch 30/100\n",
      "100/100 [==============================] - 0s 389us/step - loss: 0.0500\n",
      "Epoch 31/100\n",
      "100/100 [==============================] - 0s 369us/step - loss: 0.0460\n",
      "Epoch 32/100\n",
      "100/100 [==============================] - 0s 359us/step - loss: 0.0489\n",
      "Epoch 33/100\n",
      "100/100 [==============================] - 0s 359us/step - loss: 0.0480\n",
      "Epoch 34/100\n",
      "100/100 [==============================] - 0s 628us/step - loss: 0.0496\n",
      "Epoch 35/100\n",
      "100/100 [==============================] - 0s 469us/step - loss: 0.0503\n",
      "Epoch 36/100\n",
      "100/100 [==============================] - 0s 359us/step - loss: 0.0491\n",
      "Epoch 37/100\n",
      "100/100 [==============================] - 0s 389us/step - loss: 0.0483\n",
      "Epoch 38/100\n",
      "100/100 [==============================] - 0s 349us/step - loss: 0.0468\n",
      "Epoch 39/100\n",
      "100/100 [==============================] - 0s 369us/step - loss: 0.0502\n",
      "Epoch 40/100\n",
      "100/100 [==============================] - 0s 598us/step - loss: 0.0508\n",
      "Epoch 41/100\n",
      "100/100 [==============================] - 0s 499us/step - loss: 0.0469\n",
      "Epoch 42/100\n",
      "100/100 [==============================] - 0s 399us/step - loss: 0.0467\n",
      "Epoch 43/100\n",
      "100/100 [==============================] - 0s 399us/step - loss: 0.0493\n",
      "Epoch 44/100\n",
      "100/100 [==============================] - 0s 369us/step - loss: 0.0505\n",
      "Epoch 45/100\n",
      "100/100 [==============================] - 0s 349us/step - loss: 0.0450\n",
      "Epoch 46/100\n",
      "100/100 [==============================] - 0s 449us/step - loss: 0.0491\n",
      "Epoch 47/100\n",
      "100/100 [==============================] - 0s 459us/step - loss: 0.0474\n",
      "Epoch 48/100\n",
      "100/100 [==============================] - 0s 429us/step - loss: 0.0508\n",
      "Epoch 49/100\n",
      "100/100 [==============================] - 0s 359us/step - loss: 0.0478\n",
      "Epoch 50/100\n",
      "100/100 [==============================] - 0s 379us/step - loss: 0.0516\n",
      "Epoch 51/100\n",
      "100/100 [==============================] - 0s 409us/step - loss: 0.0499\n",
      "Epoch 52/100\n",
      "100/100 [==============================] - 0s 439us/step - loss: 0.0472\n",
      "Epoch 53/100\n",
      "100/100 [==============================] - 0s 539us/step - loss: 0.0490\n",
      "Epoch 54/100\n",
      "100/100 [==============================] - 0s 778us/step - loss: 0.0471\n",
      "Epoch 55/100\n",
      "100/100 [==============================] - 0s 529us/step - loss: 0.0514\n",
      "Epoch 56/100\n",
      "100/100 [==============================] - 0s 648us/step - loss: 0.0473\n",
      "Epoch 57/100\n",
      "100/100 [==============================] - 0s 668us/step - loss: 0.0485\n",
      "Epoch 58/100\n",
      "100/100 [==============================] - 0s 898us/step - loss: 0.0502\n",
      "Epoch 59/100\n",
      "100/100 [==============================] - 0s 688us/step - loss: 0.0490\n",
      "Epoch 60/100\n",
      "100/100 [==============================] - 0s 499us/step - loss: 0.0503\n",
      "Epoch 61/100\n",
      "100/100 [==============================] - 0s 359us/step - loss: 0.0497\n",
      "Epoch 62/100\n",
      "100/100 [==============================] - 0s 339us/step - loss: 0.0496\n",
      "Epoch 63/100\n",
      "100/100 [==============================] - 0s 339us/step - loss: 0.0478\n",
      "Epoch 64/100\n",
      "100/100 [==============================] - 0s 429us/step - loss: 0.0494\n",
      "Epoch 65/100\n",
      "100/100 [==============================] - 0s 339us/step - loss: 0.0506\n",
      "Epoch 66/100\n",
      "100/100 [==============================] - 0s 349us/step - loss: 0.0470\n",
      "Epoch 67/100\n",
      "100/100 [==============================] - 0s 359us/step - loss: 0.0459\n",
      "Epoch 68/100\n",
      "100/100 [==============================] - 0s 439us/step - loss: 0.0498\n",
      "Epoch 69/100\n",
      "100/100 [==============================] - 0s 469us/step - loss: 0.0495\n",
      "Epoch 70/100\n",
      "100/100 [==============================] - 0s 389us/step - loss: 0.0452\n",
      "Epoch 71/100\n",
      "100/100 [==============================] - 0s 409us/step - loss: 0.0479\n",
      "Epoch 72/100\n",
      "100/100 [==============================] - 0s 359us/step - loss: 0.0466\n",
      "Epoch 73/100\n",
      "100/100 [==============================] - 0s 449us/step - loss: 0.0502\n",
      "Epoch 74/100\n",
      "100/100 [==============================] - 0s 419us/step - loss: 0.0508\n",
      "Epoch 75/100\n",
      "100/100 [==============================] - 0s 379us/step - loss: 0.0493\n",
      "Epoch 76/100\n",
      "100/100 [==============================] - 0s 369us/step - loss: 0.0473\n",
      "Epoch 77/100\n",
      "100/100 [==============================] - 0s 369us/step - loss: 0.0508\n",
      "Epoch 78/100\n",
      "100/100 [==============================] - 0s 369us/step - loss: 0.0458\n",
      "Epoch 79/100\n",
      "100/100 [==============================] - 0s 319us/step - loss: 0.0468\n",
      "Epoch 80/100\n",
      "100/100 [==============================] - 0s 389us/step - loss: 0.0472\n",
      "Epoch 81/100\n",
      "100/100 [==============================] - 0s 349us/step - loss: 0.0472\n",
      "Epoch 82/100\n",
      "100/100 [==============================] - 0s 339us/step - loss: 0.0498\n",
      "Epoch 83/100\n",
      "100/100 [==============================] - 0s 359us/step - loss: 0.0493\n",
      "Epoch 84/100\n",
      "100/100 [==============================] - 0s 439us/step - loss: 0.0481\n",
      "Epoch 85/100\n",
      "100/100 [==============================] - 0s 349us/step - loss: 0.0489\n",
      "Epoch 86/100\n",
      "100/100 [==============================] - 0s 359us/step - loss: 0.0484\n",
      "Epoch 87/100\n",
      "100/100 [==============================] - 0s 349us/step - loss: 0.0498\n",
      "Epoch 88/100\n",
      "100/100 [==============================] - 0s 339us/step - loss: 0.0497\n",
      "Epoch 89/100\n",
      "100/100 [==============================] - 0s 379us/step - loss: 0.0508\n",
      "Epoch 90/100\n",
      "100/100 [==============================] - 0s 329us/step - loss: 0.0433\n",
      "Epoch 91/100\n",
      "100/100 [==============================] - 0s 379us/step - loss: 0.0493\n",
      "Epoch 92/100\n",
      "100/100 [==============================] - 0s 359us/step - loss: 0.0502\n",
      "Epoch 93/100\n",
      "100/100 [==============================] - 0s 349us/step - loss: 0.0473\n",
      "Epoch 94/100\n"
     ]
    },
    {
     "name": "stdout",
     "output_type": "stream",
     "text": [
      "100/100 [==============================] - 0s 289us/step - loss: 0.0514\n",
      "Epoch 95/100\n",
      "100/100 [==============================] - 0s 429us/step - loss: 0.0474\n",
      "Epoch 96/100\n",
      "100/100 [==============================] - 0s 299us/step - loss: 0.0486\n",
      "Epoch 97/100\n",
      "100/100 [==============================] - 0s 289us/step - loss: 0.0478\n",
      "Epoch 98/100\n",
      "100/100 [==============================] - 0s 309us/step - loss: 0.0476\n",
      "Epoch 99/100\n",
      "100/100 [==============================] - 0s 299us/step - loss: 0.0473\n",
      "Epoch 100/100\n",
      "100/100 [==============================] - 0s 319us/step - loss: 0.0488\n"
     ]
    },
    {
     "data": {
      "text/plain": [
       "<keras.callbacks.History at 0x23cbe358208>"
      ]
     },
     "execution_count": 5,
     "metadata": {},
     "output_type": "execute_result"
    }
   ],
   "source": [
    "model.fit(X, y, epochs = 100, batch_size = 2, verbose = 1)"
   ]
  },
  {
   "cell_type": "markdown",
   "metadata": {},
   "source": [
    "Kiểm tra tham số mô hình"
   ]
  },
  {
   "cell_type": "code",
   "execution_count": 6,
   "metadata": {},
   "outputs": [
    {
     "data": {
      "text/plain": [
       "[array([[1.9248328],\n",
       "        [2.8480237]], dtype=float32), array([4.1467957], dtype=float32)]"
      ]
     },
     "execution_count": 6,
     "metadata": {},
     "output_type": "execute_result"
    }
   ],
   "source": [
    "model.get_weights()"
   ]
  }
 ],
 "metadata": {
  "kernelspec": {
   "display_name": "Python 3",
   "language": "python",
   "name": "python3"
  },
  "language_info": {
   "codemirror_mode": {
    "name": "ipython",
    "version": 3
   },
   "file_extension": ".py",
   "mimetype": "text/x-python",
   "name": "python",
   "nbconvert_exporter": "python",
   "pygments_lexer": "ipython3",
   "version": "3.7.2"
  }
 },
 "nbformat": 4,
 "nbformat_minor": 2
}
