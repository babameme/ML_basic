{
 "cells": [
  {
   "cell_type": "markdown",
   "metadata": {},
   "source": [
    "## Import thư viện cần thiết"
   ]
  },
  {
   "cell_type": "code",
   "execution_count": 1,
   "metadata": {},
   "outputs": [],
   "source": [
    "import numpy as np\n",
    "from sklearn import linear_model # Logistic Regression\n",
    "from sklearn.metrics import accuracy_score # Evaluation\n",
    "from scipy import misc # Loading image\n",
    "import imageio"
   ]
  },
  {
   "cell_type": "markdown",
   "metadata": {},
   "source": [
    "## Khởi tạo bộ sinh số ngẫu nhiên"
   ]
  },
  {
   "cell_type": "code",
   "execution_count": 2,
   "metadata": {},
   "outputs": [],
   "source": [
    "np.random.seed(1)"
   ]
  },
  {
   "cell_type": "markdown",
   "metadata": {},
   "source": [
    "## Thiết đặt đường dẫn, phân chia training set và test set"
   ]
  },
  {
   "cell_type": "code",
   "execution_count": 8,
   "metadata": {},
   "outputs": [
    {
     "name": "stdout",
     "output_type": "stream",
     "text": [
      "(25,)\n"
     ]
    }
   ],
   "source": [
    "path = 'ARFace/'\n",
    "train_ids = np.arange(1, 26)\n",
    "#print(train_ids)\n",
    "test_ids = np.arange(26, 51)\n",
    "#print(test_ids)\n"
   ]
  },
  {
   "cell_type": "markdown",
   "metadata": {},
   "source": [
    "## Xây dựng danh sách tên files"
   ]
  },
  {
   "cell_type": "code",
   "execution_count": 4,
   "metadata": {},
   "outputs": [],
   "source": [
    "def build_list_fn(pre, img_ids):\n",
    "    \"\"\"\n",
    "    INPUT:\n",
    "        pre = 'M-' or 'W-'\n",
    "        img_ids: indexes of images\n",
    "    OUTPUT:\n",
    "        a list of filenames\n",
    "    \"\"\"\n",
    "    list_fn = []\n",
    "    for im_id in img_ids:\n",
    "        fn = path + pre + str(im_id).zfill(3) + '.jpg'\n",
    "        list_fn.append(fn)\n",
    "    return list_fn"
   ]
  },
  {
   "cell_type": "markdown",
   "metadata": {},
   "source": [
    "## Chuyển ảnh sang màu xám "
   ]
  },
  {
   "cell_type": "code",
   "execution_count": 5,
   "metadata": {},
   "outputs": [],
   "source": [
    "def rgb2gray(rgb):\n",
    "    # Y' = 0.299 R + 0.587 G + 0.114 B\n",
    "    return rgb[:,:,0] * .299 + rgb[:,:,1] * .587 + rgb[:,:,2] * .114"
   ]
  },
  {
   "cell_type": "markdown",
   "metadata": {},
   "source": [
    "## Feature extraction"
   ]
  },
  {
   "cell_type": "code",
   "execution_count": 6,
   "metadata": {
    "scrolled": true
   },
   "outputs": [],
   "source": [
    "def vectorize_img(filename):\n",
    "    # Load image into RGB\n",
    "    rgb = imageio.imread(filename)\n",
    "    # Convert to gray image\n",
    "    gray = rgb2gray(rgb)\n",
    "    # Vectorization each row is a datapoint\n",
    "    l = gray.shape[0] * gray.shape[1]\n",
    "    im_vec = gray.reshape(1, l)\n",
    "    return im_vec\n",
    "\n",
    "#print(vectorize_img('ARFace/M-001.jpg'))"
   ]
  },
  {
   "cell_type": "markdown",
   "metadata": {},
   "source": [
    "## Xây dựng ma trận ảnh"
   ]
  },
  {
   "cell_type": "code",
   "execution_count": 7,
   "metadata": {},
   "outputs": [],
   "source": [
    "def build_data_matrix(img_ids):\n",
    "    total_imgs = imgs_ids.shape[0] * 2\n",
    "    X_full = np.zeros((total_imgs, D))"
   ]
  }
 ],
 "metadata": {
  "kernelspec": {
   "display_name": "Python 3",
   "language": "python",
   "name": "python3"
  },
  "language_info": {
   "codemirror_mode": {
    "name": "ipython",
    "version": 3
   },
   "file_extension": ".py",
   "mimetype": "text/x-python",
   "name": "python",
   "nbconvert_exporter": "python",
   "pygments_lexer": "ipython3",
   "version": "3.6.5"
  }
 },
 "nbformat": 4,
 "nbformat_minor": 2
}
